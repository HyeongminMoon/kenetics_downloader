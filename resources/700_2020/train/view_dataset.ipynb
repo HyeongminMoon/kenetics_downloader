{
 "cells": [
  {
   "cell_type": "code",
   "execution_count": 7,
   "id": "cd331777-5576-41e6-89a2-c353b0839678",
   "metadata": {},
   "outputs": [
    {
     "data": {
      "text/plain": [
       "0"
      ]
     },
     "execution_count": 7,
     "metadata": {},
     "output_type": "execute_result"
    }
   ],
   "source": [
    "import json\n",
    "\n",
    "f = open('kinetics_700_train.json')\n",
    "\n",
    "data = json.load(f)\n",
    "videos = list(data.keys())\n",
    "video_dict = dict()\n",
    "for video in videos:\n",
    "    if data.get(video).get('annotations').get('label') == 'using computers':\n",
    "        video_dict[video] = data.get(video)\n",
    "\n",
    "len(video_dict)"
   ]
  },
  {
   "cell_type": "code",
   "execution_count": 1,
   "id": "3f5772e7-7fa6-4493-bc30-4a80d6b2db44",
   "metadata": {},
   "outputs": [],
   "source": [
    "import time\n",
    "cnt = 0\n",
    "for i in range(10):\n",
    "    # print(cnt, end='\\r')\n",
    "    cnt+=1\n",
    "    # time.sleep(1)"
   ]
  },
  {
   "cell_type": "code",
   "execution_count": 5,
   "id": "567db41d-5350-4c99-87b4-6077520e8d8e",
   "metadata": {},
   "outputs": [
    {
     "data": {
      "text/plain": [
       "False"
      ]
     },
     "execution_count": 5,
     "metadata": {},
     "output_type": "execute_result"
    }
   ],
   "source": [
    "start = time.time()\n",
    "time.sleep(1)\n",
    "time.time() - start <= 1"
   ]
  },
  {
   "cell_type": "code",
   "execution_count": 30,
   "id": "80e2fb4f-a8da-4512-802d-3bdfc2d8ae12",
   "metadata": {},
   "outputs": [
    {
     "name": "stdout",
     "output_type": "stream",
     "text": [
      "part ../../../downloader/dataset/train/normal/walking_through_snow\n",
      "ytdl ../../../downloader/dataset/train/normal/walking_through_snow\n",
      "part ../../../downloader/dataset/train/normal/stretching_arm\n",
      "ytdl ../../../downloader/dataset/train/normal/stretching_arm\n",
      "part ../../../downloader/dataset/train/normal/cracking_neck\n",
      "ytdl ../../../downloader/dataset/train/normal/cracking_neck\n",
      "part ../../../downloader/dataset/train/normal/cracking_knuckles\n",
      "ytdl ../../../downloader/dataset/train/normal/cracking_knuckles\n",
      "part ../../../downloader/dataset/train/normal/drinking_shots\n",
      "ytdl ../../../downloader/dataset/train/normal/drinking_shots\n",
      "part ../../../downloader/dataset/train/normal/watching_tv\n",
      "ytdl ../../../downloader/dataset/train/normal/watching_tv\n",
      "part ../../../downloader/dataset/train/normal/eating_doughnuts\n",
      "ytdl ../../../downloader/dataset/train/normal/eating_doughnuts\n",
      "part ../../../downloader/dataset/train/normal/eating_chips\n",
      "ytdl ../../../downloader/dataset/train/normal/eating_chips\n",
      "part ../../../downloader/dataset/train/normal/raising_eyebrows\n",
      "ytdl ../../../downloader/dataset/train/normal/raising_eyebrows\n",
      "part ../../../downloader/dataset/train/normal/adjusting_glasses\n",
      "part ../../../downloader/dataset/train/normal/recording_music\n",
      "ytdl ../../../downloader/dataset/train/normal/recording_music\n",
      "part ../../../downloader/dataset/train/normal/reading_book\n",
      "part ../../../downloader/dataset/train/normal/eating_cake\n",
      "part ../../../downloader/dataset/train/normal/laughing\n",
      "ytdl ../../../downloader/dataset/train/normal/laughing\n",
      "part ../../../downloader/dataset/train/normal/chewing_gum\n",
      "ytdl ../../../downloader/dataset/train/normal/chewing_gum\n",
      "part ../../../downloader/dataset/train/normal/brushing_teeth\n",
      "ytdl ../../../downloader/dataset/train/normal/brushing_teeth\n",
      "part ../../../downloader/dataset/train/normal/counting_money\n",
      "ytdl ../../../downloader/dataset/train/normal/counting_money\n",
      "part ../../../downloader/dataset/train/normal/eating_burger\n",
      "part ../../../downloader/dataset/train/normal/opening_door\n",
      "ytdl ../../../downloader/dataset/train/normal/opening_door\n",
      "part ../../../downloader/dataset/train/normal/eating_spaghetti\n",
      "ytdl ../../../downloader/dataset/train/normal/eating_spaghetti\n",
      "part ../../../downloader/dataset/train/normal/eating_watermelon\n",
      "part ../../../downloader/dataset/train/normal/eating_nachos\n",
      "part ../../../downloader/dataset/train/normal/massaging_legs\n",
      "ytdl ../../../downloader/dataset/train/normal/massaging_legs\n",
      "part ../../../downloader/dataset/train/normal/walking_on_stilts\n",
      "part ../../../downloader/dataset/train/normal/yawning\n",
      "ytdl ../../../downloader/dataset/train/normal/yawning\n",
      "part ../../../downloader/dataset/train/normal/clapping\n",
      "ytdl ../../../downloader/dataset/train/normal/clapping\n",
      "part ../../../downloader/dataset/train/normal/massaging_back\n",
      "part ../../../downloader/dataset/train/normal/brushing_hair\n",
      "ytdl ../../../downloader/dataset/train/normal/brushing_hair\n",
      "part ../../../downloader/dataset/train/normal/talking_on_cell_phone\n",
      "ytdl ../../../downloader/dataset/train/normal/talking_on_cell_phone\n",
      "part ../../../downloader/dataset/train/normal/news_anchoring\n",
      "ytdl ../../../downloader/dataset/train/normal/news_anchoring\n",
      "part ../../../downloader/dataset/train/normal/eating_ice_cream\n",
      "ytdl ../../../downloader/dataset/train/normal/eating_ice_cream\n",
      "part ../../../downloader/dataset/train/normal/fixing_hair\n",
      "part ../../../downloader/dataset/train/normal/tying_necktie\n",
      "ytdl ../../../downloader/dataset/train/normal/tying_necktie\n",
      "part ../../../downloader/dataset/train/normal/blowing_nose\n",
      "ytdl ../../../downloader/dataset/train/normal/blowing_nose\n",
      "part ../../../downloader/dataset/train/normal/walking_the_dog\n",
      "part ../../../downloader/dataset/train/normal/reading_newspaper\n",
      "ytdl ../../../downloader/dataset/train/normal/reading_newspaper\n"
     ]
    }
   ],
   "source": [
    "import os\n",
    "import glob\n",
    "dirs = glob.glob('../../../downloader/dataset/train/normal/*')\n",
    "\n",
    "# if '.ipynb_checkpoints' in dirs:\n",
    "    # dirs.remove('.ipynb_checkpoints')\n",
    "    \n",
    "for di in dirs:\n",
    "    sample = glob.glob(di + '/*.mp4')[:3]\n",
    "    part = glob.glob(di + '/*.part')\n",
    "    ytdl = glob.glob(di + '/*.ytdl')\n",
    "    \n",
    "    if len(part) > 0:\n",
    "        print(\"part\", di)\n",
    "    if len(ytdl) > 0:\n",
    "        print(\"ytdl\", di)\n",
    "    \n",
    "    for p in part:\n",
    "        os.remove(p)\n",
    "    for y in ytdl\n",
    "    \n",
    "    # print(len(sample))\n",
    "    # if len(sample) == 0:\n",
    "        # print(di)\n",
    "    # print(di)"
   ]
  },
  {
   "cell_type": "code",
   "execution_count": null,
   "id": "d093e6ee-8ac1-46ae-8b1d-17550d600da2",
   "metadata": {},
   "outputs": [],
   "source": []
  }
 ],
 "metadata": {
  "kernelspec": {
   "display_name": "movinet",
   "language": "python",
   "name": "movinet"
  },
  "language_info": {
   "codemirror_mode": {
    "name": "ipython",
    "version": 3
   },
   "file_extension": ".py",
   "mimetype": "text/x-python",
   "name": "python",
   "nbconvert_exporter": "python",
   "pygments_lexer": "ipython3",
   "version": "3.7.13"
  }
 },
 "nbformat": 4,
 "nbformat_minor": 5
}
